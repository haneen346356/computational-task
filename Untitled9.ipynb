{
  "nbformat": 4,
  "nbformat_minor": 0,
  "metadata": {
    "colab": {
      "provenance": [],
      "authorship_tag": "ABX9TyMz203R5HvmFAG4WBYcOKTE",
      "include_colab_link": true
    },
    "kernelspec": {
      "name": "python3",
      "display_name": "Python 3"
    },
    "language_info": {
      "name": "python"
    }
  },
  "cells": [
    {
      "cell_type": "markdown",
      "metadata": {
        "id": "view-in-github",
        "colab_type": "text"
      },
      "source": [
        "<a href=\"https://colab.research.google.com/github/haneen346356/computational-task/blob/main/Untitled9.ipynb\" target=\"_parent\"><img src=\"https://colab.research.google.com/assets/colab-badge.svg\" alt=\"Open In Colab\"/></a>"
      ]
    },
    {
      "cell_type": "code",
      "execution_count": 2,
      "metadata": {
        "colab": {
          "base_uri": "https://localhost:8080/"
        },
        "id": "DOaQYdT5JnzM",
        "outputId": "94665db2-77e8-4d0d-aff0-dbeb73b971c6"
      },
      "outputs": [
        {
          "output_type": "stream",
          "name": "stdout",
          "text": [
            "Looking in indexes: https://pypi.org/simple, https://us-python.pkg.dev/colab-wheels/public/simple/\n",
            "Requirement already satisfied: pyopenms in /usr/local/lib/python3.7/dist-packages (2.7.0)\n",
            "Requirement already satisfied: numpy in /usr/local/lib/python3.7/dist-packages (from pyopenms) (1.21.6)\n",
            "VAKA\n",
            "mass of  VAKA  is = 387.2481710527\n",
            "441.2798662441\n"
          ]
        }
      ],
      "source": [
        "!pip install pyopenms\n",
        "from pyopenms import *\n",
        "seq= AASequence.fromString(\"VAKA\")\n",
        "\n",
        "print(seq )\n",
        "print(\"mass of \",seq ,\" is =\" ,seq.getMonoWeight())\n",
        "su=0\n",
        "for i in seq:\n",
        "    su=su+i.getMonoWeight()\n",
        "print(su)\n"
      ]
    }
  ]
}